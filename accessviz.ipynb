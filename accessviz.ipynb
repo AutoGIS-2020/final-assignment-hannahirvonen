{
 "cells": [
  {
   "cell_type": "markdown",
   "metadata": {},
   "source": [
    "## AutoGIS Final Assignment, Hanna Hirvonen"
   ]
  },
  {
   "cell_type": "markdown",
   "metadata": {},
   "source": [
    "# AccessViz\n",
    "#### What is AccessViz?\n",
    "AccessViz is a Python and GIS-tool that visualizes and compares travel times by different travel modes in the Helsinki Region, Finland. The tool has four main components for accessing the files (FileFinder), joining the attribute information to spatial data (TableJoiner), visualizing the data (Visualizer), and comparing different travel modes (Comparison Tool).\n",
    "\n",
    "#### Data\n",
    "The Helsinki Region Travel Time Matrix Data can be downloaded from http://blogs.helsinki.fi/accessibility/helsinki-region-travel-time-matrix/.\n",
    "The data is available for years 2013, 2015, and 2018. You can find further information on the Travel Time Matrix in the Digital Geography Lab / Accessibility Research blog of University of Helsinki: http://blogs.helsinki.fi/accessibility/helsinki-region-travel-time-matrix/.\n",
    "\n",
    "YKR grid cell ID values can be found in an attribute table that can be downloaded from http://www.helsinki.fi/science/accessibility/data/MetropAccess-matka-aikamatriisi/MetropAccess_YKR_grid.zip. You can get familiar with the locations of individual YKR grid cells by checking out this webmap by University of Helsinki: http://www.helsinki.fi/science/accessibility/tools/YKR/YKR_Identifier.html.\n",
    "\n",
    "Four Travel Time Matrix files from 2018 are used in the example code to demonstrate how the tool works."
   ]
  },
  {
   "cell_type": "markdown",
   "metadata": {},
   "source": [
    "### FileFinder\n",
    "\n",
    "FileFinder finds a list of Travel Time Matrix files according to an input list of YKR ID values. If a YKR ID is not found in a specified input folder nor its subfolders, the tool warns the user but continues running. The tool also informs the user of the execution process."
   ]
  },
  {
   "cell_type": "code",
   "execution_count": 2,
   "metadata": {},
   "outputs": [
    {
     "name": "stdout",
     "output_type": "stream",
     "text": [
      "FileFinder\n",
      "\n",
      "Enter the YKR IDs one by one for the analysis.\n",
      "Press the enter-key after each ID.\n",
      "Enter '0' when finished.\n"
     ]
    },
    {
     "name": "stdin",
     "output_type": "stream",
     "text": [
      " 5785640\n",
      " 5785641\n",
      " 5785642\n",
      " 5785643\n",
      " 0\n",
      "Enter the filepath to the input folder containing the Travel Time Matrix files: data/\n"
     ]
    },
    {
     "name": "stdout",
     "output_type": "stream",
     "text": [
      "Process: 4 / 4 , last file processed: travel_times_to_ 5785643.txt \n",
      "All files processed.\n"
     ]
    }
   ],
   "source": [
    "#Importing the necessary modules:\n",
    "import geopandas as gpd\n",
    "import pandas as pd\n",
    "import numpy as np\n",
    "import glob\n",
    "import os\n",
    "import matplotlib.pyplot as plt\n",
    "import folium\n",
    "import requests\n",
    "import geojson\n",
    "import contextily as ctx\n",
    "%matplotlib inline\n",
    "\n",
    "#Creating empty lists for the YKR IDs and the filepaths:\n",
    "ykr_ids=[]\n",
    "user_fps=[]\n",
    "\n",
    "#The user creates a list of YKR IDs:\n",
    "print(\"FileFinder\\n\\nEnter the YKR IDs one by one for the analysis.\\nPress the enter-key after each ID.\\nEnter '0' when finished.\")\n",
    "while True:\n",
    "    ele=int(input()) #the user enters a YKR ID\n",
    "    if ele==0:\n",
    "        break\n",
    "    else:\n",
    "        ykr_ids.append(ele)\n",
    "\n",
    "#The user defines the input folder:\n",
    "input_fp = str(input(\"Enter the filepath to the input folder containing the Travel Time Matrix files:\"))\n",
    "\n",
    "#Defining a function for getting updates about the state of the process:\n",
    "def state(n,list_length,last_file):\n",
    "    \"\"\"\n",
    "    A function for printing updates of the processes in FileFinder and TableJoiner.\n",
    "    Inputs:\n",
    "    n: ordinal number (int) of the current index in a list, such as 2 in 2/5\n",
    "    list_length: total length of the list (int)\n",
    "    last_file: the name of the last file processed (string)\n",
    "    \"\"\"\n",
    "    if n!=len(ykr_ids):\n",
    "        print(\"Process:\",n,\"/\",list_length,\", last file processed:\",last_file,end=\"\\r\") #the previous statement is removed once the process moves on\n",
    "    else:\n",
    "        print(\"Process:\",n,\"/\",list_length,\", last file processed:\",last_file,\"\\nAll files processed.\")\n",
    "    return None\n",
    "\n",
    "#Searching for corresponding .txt files from the input folder:\n",
    "n=1\n",
    "for i in ykr_ids:\n",
    "    file=input_fp+\"travel_times_to_ \"+str(i)+\".txt\"\n",
    "    globfile=str(glob.glob(file)) #this creates the file if it exists in the input directory\n",
    "    s_globfile = globfile[slice(2,-2)]\n",
    "    if (s_globfile!=file):\n",
    "        print(\"A file corresponding to the YKR ID \"+str(i)+\" not found in the input folder!\") #notifying the user if a file is not found\n",
    "    user_fps.append(s_globfile)\n",
    "    state(n,len(ykr_ids),s_globfile[5:])\n",
    "    n=n+1"
   ]
  },
  {
   "cell_type": "markdown",
   "metadata": {},
   "source": [
    "### TableJoiner\n",
    "Tablejoiner joins the Matrix file with MetropAccess YKR grid shapefile by using a corresponding column of YKR IDs. The resulting Shapefile is then saved to an output folder defined by the user. "
   ]
  },
  {
   "cell_type": "code",
   "execution_count": 3,
   "metadata": {},
   "outputs": [
    {
     "name": "stdin",
     "output_type": "stream",
     "text": [
      "TableJoiner\n",
      "\n",
      "Enter the filepath to the output folder for the joined table: data/output/joined_shapefile/\n"
     ]
    },
    {
     "name": "stdout",
     "output_type": "stream",
     "text": [
      "Process: 4 / 4 , last file processed:  5785643.shp \n",
      "All files processed.\n"
     ]
    }
   ],
   "source": [
    "#Reading the grid-shapefile into a new GeoDataFrame:\n",
    "grid_fp=\"data/grid/MetropAccess_YKR_grid_EurefFIN.shp\"\n",
    "grid=gpd.read_file(grid_fp)\n",
    "\n",
    "#The user defines the output folder:\n",
    "output_fp=str(input(\"TableJoiner\\n\\nEnter the filepath to the output folder for the joined table:\"))\n",
    "\n",
    "#Reading the YKR cells from the filepaths into new dataframes and joining them with the grid:\n",
    "merged_fps=[] #creating an empty table for the filepaths to the joined/merged tables\n",
    "n=1\n",
    "for i in user_fps:\n",
    "    df=pd.read_csv(i,sep=\";\")\n",
    "    file_name=i[slice(21,-4)]+\".shp\"\n",
    "    merged_grid=grid.merge(df,left_on='YKR_ID',right_on='from_id')\n",
    "    merged_grid.replace(to_replace=-1,value=np.nan,inplace=True) #finding no data -values\n",
    "    merged_grid.dropna(inplace=True) #removing no data -values\n",
    "    output=os.path.join(output_fp,file_name)\n",
    "    merged_grid.to_file(output)\n",
    "    merged_fps.append(file_name)\n",
    "    state(n,len(user_fps),file_name)\n",
    "    n=n+1"
   ]
  },
  {
   "cell_type": "markdown",
   "metadata": {},
   "source": [
    "### Visualizer\n",
    "Visualizer visualizes travel times of the selected YKR grid cells on four possible travel modes: 1) car, 2) public transport, 3) walking, and 4) biking. The user decides which modes are visualized, where the results are saved, and whether  the map is going to be static or interactive. "
   ]
  },
  {
   "cell_type": "code",
   "execution_count": 4,
   "metadata": {},
   "outputs": [
    {
     "name": "stdout",
     "output_type": "stream",
     "text": [
      "Visualizer\n",
      "\n",
      "Enter which traveling modes are visualized one by one (car, public transport, walking, biking).\n",
      "Press the enter-key in an empty cell when finished:\n"
     ]
    },
    {
     "name": "stdin",
     "output_type": "stream",
     "text": [
      " car\n",
      " \n",
      "Enter 'static' for a static map or 'interactive' for an interactive map: interactive\n",
      "Enter the output filepath for saving the visualizations: data/output/interactive_maps/\n"
     ]
    }
   ],
   "source": [
    "#The user determines which traveling modes are visualized:\n",
    "print(\"Visualizer\\n\\nEnter which traveling modes are visualized one by one (car, public transport, walking, biking).\\nPress the enter-key in an empty cell when finished:\")\n",
    "modes=[] #an empty list for storing the selected travel modes\n",
    "while True:\n",
    "    ele=str(input())\n",
    "    if ele=='':\n",
    "        break\n",
    "    else:\n",
    "        modes.append(ele)\n",
    "        \n",
    "#The user determines whether the map is static or interactive:\n",
    "s_or_ia=input(\"Enter 'static' for a static map or 'interactive' for an interactive map:\")\n",
    "\n",
    "#The user determines the output folder for the maps:\n",
    "output_vis=input(\"Enter the output filepath for saving the visualizations:\")\n",
    "\n",
    "#Creating new GeoDataFrames for the road and metro networks:\n",
    "metro_fp=\"data/metro.shp\"\n",
    "roads_fp=\"data/roads.shp\"\n",
    "roads=gpd.read_file(roads_fp)\n",
    "metro=gpd.read_file(metro_fp)\n",
    "roads = roads.to_crs(epsg=3857) #the coordinate systems are changed\n",
    "metro = metro.to_crs(epsg=3857)\n",
    "\n",
    "#Defining a function for retrieving a correct Travel Time Matrix column name:\n",
    "def get_column(mode):\n",
    "    \"\"\"\n",
    "    A function for getting a correct Travel Time Matrix column name based on a traveling mode.\n",
    "    Input: traveling mode (string), such as 'biking'\n",
    "    Returns: a column name (string) from the Helsinki Region Travel Time Matrix\n",
    "    \"\"\"\n",
    "    if mode==\"car\":\n",
    "        col=\"car_r_t\" #r=rush hour, t=time\n",
    "    elif mode==\"public transport\":\n",
    "        col=\"pt_r_t\"\n",
    "    elif mode==\"walking\":\n",
    "        col=\"walk_t\"\n",
    "    elif mode==\"biking\":\n",
    "        col=\"bike_f_t\" #f=fast biking\n",
    "    return col\n",
    "\n",
    "#Defining a function for creating and saving a static map:\n",
    "def static_map(col,gdf,mode,file_name):\n",
    "    \"\"\"\n",
    "    A function for creating and saving a static map of travel times to a specific YKR grid cell.\n",
    "    The map is saved in png-format.\n",
    "    Inputs:\n",
    "    col: column name of the traveling mode from the get_column-function\n",
    "    gdf: joined GeoDataFrame with the Matrix and YKR data\n",
    "    mode: name of the traveling mode\n",
    "    file_name: name of the current file\n",
    "    \"\"\"\n",
    "    fig,ax=plt.subplots(figsize=(12,8))\n",
    "    gdf.plot(ax=ax, \n",
    "              column=col, \n",
    "              linewidth=0.03, \n",
    "              cmap=\"Spectral\", \n",
    "              scheme=\"quantiles\", \n",
    "              k=9, \n",
    "              legend=True, \n",
    "              )\n",
    "    ax.get_legend().set_bbox_to_anchor((1.3,1))\n",
    "    ax.set_title(\"Travel times to the YKR grid cell\"+file_name[0:-4])\n",
    "    roads.plot(ax=ax, color=\"grey\", linewidth=1.5)\n",
    "    metro.plot(ax=ax, color=\"red\", linewidth=1.5)\n",
    "    legend_title=\"Travel time in minutes by \"+mode\n",
    "    ax.get_legend().set_title(legend_title)\n",
    "    ctx.add_basemap(ax, source=ctx.providers.OpenStreetMap.Mapnik) #adding a basemap\n",
    "    plt.tight_layout()\n",
    "    out_fp=output_vis+file_name[0:-4]+\"_\"+mode+\".png\"\n",
    "    plt.savefig(out_fp, dpi=300)\n",
    "    return None\n",
    "\n",
    "def interactive_map(col,file,mode,file_name):\n",
    "    file[\"geoid\"]=file.index.astype(str)\n",
    "    mode_col=get_column(mode)\n",
    "    file=file[[\"geoid\",mode_col,\"geometry\"]]\n",
    "    title=\"Travel time by \"+mode\n",
    "    legend_title=\"Travel time in minutes by \"+mode\n",
    "    m=folium.Map(location=[60.25, 24.8], \n",
    "                 tiles=\"cartodbpositron\", \n",
    "                 zoom_start=10, \n",
    "                 control_scale=True)\n",
    "    folium.Choropleth(\n",
    "    geo_data=file,\n",
    "    name=title,\n",
    "    data=file,\n",
    "    columns=[\"geoid\", mode_col],\n",
    "    key_on=\"feature.id\",\n",
    "    fill_color=\"YlOrRd\",\n",
    "    fill_opacity=0.7,\n",
    "    line_opacity=0.2,\n",
    "    line_color=\"white\", \n",
    "    line_weight=0,\n",
    "    highlight=False, \n",
    "    smooth_factor=1.0,\n",
    "    legend_name=legend_title).add_to(m)\n",
    "    out_fp=output_vis+file_name[0:-5]+\"_\"+mode+\".html\"\n",
    "    m.save(out_fp)\n",
    "    return None\n",
    "\n",
    "def visualize(mode, file, file_name):\n",
    "    col=get_column(mode)\n",
    "    if s_or_ia==\"static\":\n",
    "        static_map(col, file, mode, file_name)\n",
    "    elif s_or_ia=='interactive':\n",
    "        interactive_map(col, file, mode, file_name)\n",
    "    return None\n",
    "\n",
    "def get_gdf(file_name):\n",
    "    filepath=output_fp+file_name\n",
    "    gdf=gpd.read_file(filepath)\n",
    "    gdf=gdf.to_crs(epsg=3857) #changing the crs\n",
    "    return gdf\n",
    "\n",
    "for i in modes:\n",
    "    for file_name in merged_fps:\n",
    "        merged=get_gdf(file_name)\n",
    "        figure=visualize(i, merged, file_name)"
   ]
  },
  {
   "cell_type": "markdown",
   "metadata": {},
   "source": [
    "### Comparison Tool\n",
    "Comparison tool compares travel times or travel distances of two different traveling modes defined by the user. The calculation is done based on the order of the inputs: the first mode is substracted by the second. The outputs are saved as Shapefiles. If invalid parameters are given, the tool stops the program and offers advise on what values are acceptable. \n",
    "\n",
    "AccessViz can be run without doing any comparisons.  "
   ]
  },
  {
   "cell_type": "code",
   "execution_count": 6,
   "metadata": {},
   "outputs": [
    {
     "name": "stdout",
     "output_type": "stream",
     "text": [
      "Comparison Tool\n",
      "\n",
      "Enter two traveling modes (car, public transport, walking, biking) one at the time for a comparison\n",
      "The first mode is going to be substracted by the second (1 - 2).\n",
      "If you do not want to do any comparison, press the enter-key in an empty cell.\n"
     ]
    },
    {
     "name": "stdin",
     "output_type": "stream",
     "text": [
      " public transport\n",
      " biking\n"
     ]
    }
   ],
   "source": [
    "#Creating an empty list for the compared modes:\n",
    "comparisons=[]\n",
    "\n",
    "#Defining a function for asserting if a traveling mode is typed correctly:\n",
    "def mode_check(input):\n",
    "    assert input==\"car\" or input==\"public transport\" or input==\"walking\" or input==\"biking\", \"Invalid parameter given. Valid travel modes are: car, public transport, walking, and biking\"\n",
    "    return\n",
    "\n",
    "#The user determines if a comparison is done and which travel modes are compared:\n",
    "print(\"Comparison Tool\\n\\nEnter two traveling modes (car, public transport, walking, biking) one at the time for a comparison\\nThe first mode is going to be substracted by the second (1 - 2).\")\n",
    "print(\"If you do not want to do any comparison, press the enter-key in an empty cell.\")\n",
    "n=1\n",
    "while n<3:\n",
    "    ele=input() #the user enters a YKR ID\n",
    "    mode_check(ele)\n",
    "    if ele==\"\":\n",
    "        break\n",
    "    else:\n",
    "        comparisons.append(ele)\n",
    "    n=n+1\n",
    "    \n",
    "#The user decides whether the time or distance is compared:\n",
    "t_or_d=input(\"Enter 'time' to compare travel times or 'distance' to compare travel distances:\")\n",
    "\n",
    "#The substraction is made based on the selected traveling modes:\n",
    "for i in comparisons:\n",
    "    for file_name in merged_fps:\n",
    "        merged=get_gdf(file_name)\n",
    "        "
   ]
  }
 ],
 "metadata": {
  "kernelspec": {
   "display_name": "Python 3",
   "language": "python",
   "name": "python3"
  },
  "language_info": {
   "codemirror_mode": {
    "name": "ipython",
    "version": 3
   },
   "file_extension": ".py",
   "mimetype": "text/x-python",
   "name": "python",
   "nbconvert_exporter": "python",
   "pygments_lexer": "ipython3",
   "version": "3.8.6"
  }
 },
 "nbformat": 4,
 "nbformat_minor": 4
}
