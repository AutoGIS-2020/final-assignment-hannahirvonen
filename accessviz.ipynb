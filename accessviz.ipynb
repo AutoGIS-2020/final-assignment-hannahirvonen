{
 "cells": [
  {
   "cell_type": "markdown",
   "metadata": {},
   "source": [
    "AutoGIS Final Assignment, Hanna Hirvonen"
   ]
  },
  {
   "cell_type": "markdown",
   "metadata": {},
   "source": [
    "AccessViz"
   ]
  },
  {
   "cell_type": "markdown",
   "metadata": {},
   "source": [
    "The Helsinki Region Travel Time Matrix Data can be downloaded from http://blogs.helsinki.fi/accessibility/helsinki-region-travel-time-matrix/"
   ]
  },
  {
   "cell_type": "markdown",
   "metadata": {},
   "source": [
    "FileFinder"
   ]
  },
  {
   "cell_type": "code",
   "execution_count": 15,
   "metadata": {},
   "outputs": [
    {
     "name": "stdin",
     "output_type": "stream",
     "text": [
      "Enter the number of YKR grid cells to be analysed: 3\n"
     ]
    },
    {
     "name": "stdout",
     "output_type": "stream",
     "text": [
      "Enter the YKR ids one by one\n"
     ]
    },
    {
     "name": "stdin",
     "output_type": "stream",
     "text": [
      " 5789447\n",
      " 5789448\n",
      " 5789449\n"
     ]
    }
   ],
   "source": [
    "# Importing the necessary modules:\n",
    "import geopandas as gpd\n",
    "import os\n",
    "\n",
    "# Creating an empty list for the YKR IDs and the filepaths:\n",
    "ykr_ids = []\n",
    "user_fps = []\n",
    "\n",
    "# The user creates a list of YKR IDs:\n",
    "n = int(input('Enter the number of YKR grid cells to be analysed:'))\n",
    "print('Enter the YKR ids one by one')\n",
    "for i in range(0, n):\n",
    "    ele = int(input())\n",
    "    ykr_ids.append(ele)"
   ]
  },
  {
   "cell_type": "code",
   "execution_count": 16,
   "metadata": {},
   "outputs": [
    {
     "name": "stdin",
     "output_type": "stream",
     "text": [
      "Enter the filepath to the input folder on your computer: C:\\HelsinkiRegion_TravelTimeMatrix2018\\HelsinkiTravelTimeMatrix2018\n"
     ]
    }
   ],
   "source": [
    "# The user defines the input folder:\n",
    "input_fp = str(input('Enter the filepath to the input folder on your computer:'))"
   ]
  },
  {
   "cell_type": "code",
   "execution_count": 25,
   "metadata": {},
   "outputs": [
    {
     "name": "stdout",
     "output_type": "stream",
     "text": [
      "travel_times_to_5789447.txt\n",
      "travel_times_to_5789448.txt\n",
      "travel_times_to_5789449.txt\n"
     ]
    }
   ],
   "source": [
    "# Searching for corresponding .txt files from the input folder:\n",
    "def find_files(filename, filepath):\n",
    "    for root, dir, files in os.walk(filepath):\n",
    "        if filename in files:\n",
    "            user_filepaths.append(os.path.join(root, filename))\n",
    "        return user_filepaths\n",
    "\n",
    "for i in ykr_ids:\n",
    "    file = 'travel_times_to_' + str(i) + '.txt'\n",
    "    find_files(file, input_fp)\n",
    "    print(file)"
   ]
  },
  {
   "cell_type": "code",
   "execution_count": 23,
   "metadata": {},
   "outputs": [
    {
     "name": "stdout",
     "output_type": "stream",
     "text": [
      "[]\n"
     ]
    }
   ],
   "source": [
    "print(user_fps)"
   ]
  }
 ],
 "metadata": {
  "kernelspec": {
   "display_name": "Python 3",
   "language": "python",
   "name": "python3"
  },
  "language_info": {
   "codemirror_mode": {
    "name": "ipython",
    "version": 3
   },
   "file_extension": ".py",
   "mimetype": "text/x-python",
   "name": "python",
   "nbconvert_exporter": "python",
   "pygments_lexer": "ipython3",
   "version": "3.7.3"
  }
 },
 "nbformat": 4,
 "nbformat_minor": 4
}
