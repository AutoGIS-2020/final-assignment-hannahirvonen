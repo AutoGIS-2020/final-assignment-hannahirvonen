{
 "cells": [
  {
   "cell_type": "markdown",
   "metadata": {},
   "source": [
    "AutoGIS Final Assignment, Hanna Hirvonen"
   ]
  },
  {
   "cell_type": "markdown",
   "metadata": {},
   "source": [
    "AccessViz"
   ]
  },
  {
   "cell_type": "markdown",
   "metadata": {},
   "source": [
    "The Helsinki Region Travel Time Matrix Data can be downloaded from http://blogs.helsinki.fi/accessibility/helsinki-region-travel-time-matrix/"
   ]
  },
  {
   "cell_type": "markdown",
   "metadata": {},
   "source": [
    "FileFinder"
   ]
  },
  {
   "cell_type": "code",
   "execution_count": 1,
   "metadata": {},
   "outputs": [
    {
     "name": "stdin",
     "output_type": "stream",
     "text": [
      "Enter the number of YKR grid cells to be analysed: 4\n"
     ]
    },
    {
     "name": "stdout",
     "output_type": "stream",
     "text": [
      "Enter the YKR ids one by one\n"
     ]
    },
    {
     "name": "stdin",
     "output_type": "stream",
     "text": [
      " 5785640\n",
      " 5785641\n",
      " 5785642\n",
      " 5785643\n"
     ]
    }
   ],
   "source": [
    "# Importing the necessary modules:\n",
    "import geopandas as gpd\n",
    "import glob\n",
    "\n",
    "# Creating an empty list for the YKR IDs and the filepaths:\n",
    "ykr_ids = []\n",
    "user_fps = []\n",
    "\n",
    "# The user creates a list of YKR IDs:\n",
    "n = int(input('Enter the number of YKR grid cells to be analysed:'))\n",
    "print('Enter the YKR ids one by one')\n",
    "for i in range(0, n):\n",
    "    ele = int(input())\n",
    "    ykr_ids.append(ele)"
   ]
  },
  {
   "cell_type": "code",
   "execution_count": 2,
   "metadata": {},
   "outputs": [
    {
     "name": "stdin",
     "output_type": "stream",
     "text": [
      "Enter the filepath to the input folder: data/\n"
     ]
    }
   ],
   "source": [
    "# The user defines the input folder:\n",
    "input_fp = str(input('Enter the filepath to the input folder:'))"
   ]
  },
  {
   "cell_type": "code",
   "execution_count": 3,
   "metadata": {},
   "outputs": [
    {
     "name": "stdout",
     "output_type": "stream",
     "text": [
      "Process:  1 / 4  -  Processing the file: 5785640\n",
      "Process:  2 / 4  -  Processing the file: 5785641\n",
      "Process:  3 / 4  -  Processing the file: 5785642\n",
      "Process:  4 / 4  -  Processing the file: 5785643\n",
      "All done.\n"
     ]
    }
   ],
   "source": [
    "# Searching for corresponding .txt files from the input folder:\n",
    "num = 1\n",
    "for i in ykr_ids:\n",
    "    if num != len(ykr_ids):\n",
    "        print('Process: ', num, '/', len(ykr_ids), ' -  Processing the file:', file)\n",
    "    else:\n",
    "        print('Process: ', num, '/', len(ykr_ids), ' -  Processing the file:', i)\n",
    "        print('All done.')\n",
    "    file = input_fp + 'travel_times_to_ ' + str(i) + '.txt'\n",
    "    user_fps.append(glob.glob(file))\n",
    "    num = num + 1"
   ]
  },
  {
   "cell_type": "code",
   "execution_count": 4,
   "metadata": {},
   "outputs": [
    {
     "data": {
      "text/plain": [
       "[['data/travel_times_to_ 5785640.txt'],\n",
       " ['data/travel_times_to_ 5785641.txt'],\n",
       " ['data/travel_times_to_ 5785642.txt'],\n",
       " ['data/travel_times_to_ 5785643.txt']]"
      ]
     },
     "execution_count": 4,
     "metadata": {},
     "output_type": "execute_result"
    }
   ],
   "source": [
    "user_fps"
   ]
  }
 ],
 "metadata": {
  "kernelspec": {
   "display_name": "Python 3",
   "language": "python",
   "name": "python3"
  },
  "language_info": {
   "codemirror_mode": {
    "name": "ipython",
    "version": 3
   },
   "file_extension": ".py",
   "mimetype": "text/x-python",
   "name": "python",
   "nbconvert_exporter": "python",
   "pygments_lexer": "ipython3",
   "version": "3.7.3"
  }
 },
 "nbformat": 4,
 "nbformat_minor": 4
}
